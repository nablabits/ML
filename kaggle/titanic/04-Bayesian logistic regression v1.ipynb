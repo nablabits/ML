{
 "cells": [
  {
   "cell_type": "code",
   "execution_count": null,
   "metadata": {},
   "outputs": [],
   "source": [
    "import numpy as np\n",
    "import pandas as pd\n",
    "import matplotlib.pyplot as plt\n",
    "import seaborn as sns\n",
    "import pymc3 as pm\n",
    "from sklearn.model_selection import train_test_split\n",
    "\n",
    "%matplotlib inline"
   ]
  },
  {
   "cell_type": "code",
   "execution_count": null,
   "metadata": {},
   "outputs": [],
   "source": [
    "df = pd.read_csv('train.csv')  \n",
    "testdf = pd.read_csv('test.csv')  # the data without class for submission"
   ]
  },
  {
   "cell_type": "markdown",
   "metadata": {},
   "source": [
    "# Bayesian logistic regression v1\n",
    "After a few uploads that scored 0 (in the begining I thought that they didn't gain an hypothetic threshold) due to submitting predictions with floats rather than ints, the final upload scored 74%"
   ]
  },
  {
   "cell_type": "code",
   "execution_count": null,
   "metadata": {},
   "outputs": [],
   "source": [
    "# Let's start with some of the cleanings performed with JeffD\n",
    "d0 = df.copy()\n",
    "t0 = testdf.copy()\n",
    "\n",
    "for dataset in (d0, t0):\n",
    "    # Let's assign unknown ages -1 (to see what happens)\n",
    "    unknown_ages = dataset[dataset.Age.isna()].index\n",
    "    dataset.loc[unknown_ages, 'Age'] = -1\n",
    "    \n",
    "    # Let's assign nan fares to -1\n",
    "    dataset.Fare.fillna(-.5, inplace=True)\n",
    "    \n",
    "    # Let's make sex a number\n",
    "    idx = dataset[dataset.Sex == 'female'].index\n",
    "    dataset.loc[:, 'Sex'] = 0\n",
    "    dataset.loc[idx, 'Sex'] = 1\n",
    "    \n",
    "    \n",
    "    # Simplify cabin names\n",
    "    dataset.loc[:, 'Cabin'] = dataset.Cabin.fillna('N')\n",
    "    dataset.loc[:, 'Cabin'] = dataset.Cabin.apply(lambda x: x[0])\n",
    "    \n",
    "    \n",
    "    # Get the name titles\n",
    "    d1 = dataset.Name.apply(lambda x: x.split(',')[1].split('.')[0])\n",
    "    dataset['Title'] = d1.str.replace(' ', '')\n",
    "\n",
    "    # A couple of irregular ones\n",
    "    d1 = dataset[dataset.Title.str.contains('Jonkheer')]\n",
    "    d2 = dataset[dataset.Title.str.contains('Countess')]\n",
    "    dataset.loc[d1.index, 'Title'] = 'Mr'\n",
    "    dataset.loc[d2.index, 'Title'] = 'Mrs'  # In her Age group are majority\n",
    "    \n",
    "    # Finally, drop some columns\n",
    "    dataset.drop(columns=['Ticket', 'Embarked', 'Name', 'PassengerId'], inplace=True)\n",
    "\n",
    "# Let's deal with unknown ages: assign the mean age taking into account the survival status.\n",
    "# First calculate the mean of the known ages, and then input it into the unknowns\n",
    "# This didn't work, though, since test set has no survival data and nan ages can't be imputated. \n",
    "# age_nan = d0.Age.isna()\n",
    "# age_dead_mean = d0[~(age_nan) & (d0.Survived == 0)].mean()\n",
    "# age_alive_mean = d0[~(age_nan) & (d0.Survived == 1)].mean()\n",
    "# unknown_dead = d0[(age_nan) & (d0.Survived == 0)]\n",
    "# unknown_alive = d0[(age_nan) & (d0.Survived == 1)]\n",
    "# d0.loc[unknown_alive.index, 'Age'] = age_alive_mean\n",
    "# d0.loc[unknown_dead.index, 'Age'] = age_dead_mean\n",
    "\n",
    "\n",
    "# Encode cabin data:\n",
    "# Get a feel of surviving chances by type of cabin\n",
    "cabins = d0.pivot_table(index='Cabin', columns='Survived', values='Sex', aggfunc='count').fillna(0)\n",
    "cabins['ratio'] = cabins[1] / cabins[0]\n",
    "# And apply to the data\n",
    "d0 = pd.merge(d0, cabins.ratio, left_on='Cabin', right_index=True, how='left')\n",
    "d0.drop(columns=['Cabin',], inplace=True)\n",
    "d0.rename(columns={'ratio': 'Cabin'}, inplace=True)\n",
    "t0 = pd.merge(t0, cabins.ratio, left_on='Cabin', right_index=True, how='left')\n",
    "t0.drop(columns=['Cabin',], inplace=True)\n",
    "t0.rename(columns={'ratio': 'Cabin'}, inplace=True)\n",
    "\n",
    "# Encode title TODO"
   ]
  },
  {
   "cell_type": "code",
   "execution_count": null,
   "metadata": {},
   "outputs": [],
   "source": [
    "# Compute a correlation matrix\n",
    "corr = d0.corr()\n",
    "\n",
    "# Generate a mask for the upper triangle\n",
    "mask = np.zeros_like(corr, dtype=np.bool)\n",
    "mask[np.triu_indices_from(mask)] = True\n",
    "\n",
    "# Set up the matplotlib figure\n",
    "f, ax = plt.subplots(figsize=(11, 9))\n",
    "\n",
    "# Generate a custom diverging colormap\n",
    "cmap = sns.diverging_palette(220, 10, as_cmap=True)\n",
    "\n",
    "# Draw the heatmap with the mask and correct aspect ratio\n",
    "sns.heatmap(corr, mask=mask, cmap=cmap, vmax=.3,\n",
    "                linewidths=.5, cbar_kws={\"shrink\": .5}, ax=ax);"
   ]
  },
  {
   "cell_type": "markdown",
   "metadata": {},
   "source": [
    " We see here that:\n",
    " * Fare is highly and positively correlated with Surviving chances (.26 out of 1) \n",
    " * Otherwise, Pclass is negatively correlated (-.35 out of 1)"
   ]
  },
  {
   "cell_type": "markdown",
   "metadata": {},
   "source": [
    "### Split Train/test\n",
    "Split the original train data into subsets of train/test"
   ]
  },
  {
   "cell_type": "code",
   "execution_count": null,
   "metadata": {},
   "outputs": [],
   "source": [
    "train, test = train_test_split(d0, test_size=.3)"
   ]
  },
  {
   "cell_type": "code",
   "execution_count": null,
   "metadata": {},
   "outputs": [],
   "source": [
    "with pm.Model() as logistic_model:\n",
    "    pm.glm.GLM.from_formula(\n",
    "        'Survived ~ Sex + Pclass + Fare + Age + Cabin', \n",
    "        train[['Survived', 'Sex', 'Pclass', 'Fare', 'Age', 'Cabin']],\n",
    "        family=pm.glm.families.Binomial())\n",
    "    trace = pm.sample(3000, tune=3500, init='adapt_diag')\n",
    "\n",
    "# Get a simple bayesian point estimation\n",
    "sex_estimate = trace['Sex'].mean()\n",
    "pclass_estimate = trace['Pclass'].mean()\n",
    "fare_estimate = trace['Fare'].mean()\n",
    "age_estimate = trace['Age'].mean()\n",
    "cabin_estimate = trace['Cabin'].mean()\n",
    "icept_estimate = trace['Intercept'].mean()"
   ]
  },
  {
   "cell_type": "code",
   "execution_count": null,
   "metadata": {},
   "outputs": [],
   "source": [
    "pm.plot_trace(trace);"
   ]
  },
  {
   "cell_type": "code",
   "execution_count": null,
   "metadata": {},
   "outputs": [],
   "source": [
    "from sklearn.metrics import accuracy_score\n",
    "\n",
    "test = test.copy()\n",
    "test['lm'] = (\n",
    "    sex_estimate * test.Sex +\n",
    "    pclass_estimate * test.Pclass +\n",
    "    fare_estimate * test.Fare +\n",
    "    age_estimate * test.Age +\n",
    "    cabin_estimate * test.Cabin +\n",
    "    icept_estimate)\n",
    "\n",
    "test['logit'] = 1 / (1 + np.exp(-test.lm))\n",
    "\n",
    "# test['y_hat'] = test.logit.round().astype(int)\n",
    "test['y_hat'] = 0\n",
    "idx = test[test.logit > .5].index\n",
    "test.loc[idx, 'y_hat'] = 1\n",
    "test['loss'] = (test.Survived - test.y_hat)**2\n",
    "1 - test.loss.mean()\n",
    "accuracy_score(test.Survived, test.y_hat)"
   ]
  },
  {
   "cell_type": "code",
   "execution_count": null,
   "metadata": {},
   "outputs": [],
   "source": [
    "lm = (sex_estimate * t0.Sex +\n",
    "      pclass_estimate * t0.Pclass +\n",
    "      fare_estimate * t0.Fare +\n",
    "      age_estimate * t0.Age +\n",
    "      cabin_estimate * t0.Cabin +\n",
    "      icept_estimate)\n",
    "\n",
    "logit = 1 / (1 + np.exp(-lm))\n",
    "y_hat = np.zeros(logit.size)\n",
    "y_hat[logit >= .5] = 1\n",
    "\n",
    "pd.Series(\n",
    "    index=testdf.PassengerId, data=y_hat.astype(int), name='Survived').to_csv(\n",
    "    '04-Bayesian-logistic-regression.csv')"
   ]
  },
  {
   "cell_type": "code",
   "execution_count": null,
   "metadata": {},
   "outputs": [],
   "source": [
    "y_hat.astype(int)"
   ]
  },
  {
   "cell_type": "code",
   "execution_count": null,
   "metadata": {},
   "outputs": [],
   "source": []
  },
  {
   "cell_type": "code",
   "execution_count": null,
   "metadata": {},
   "outputs": [],
   "source": []
  }
 ],
 "metadata": {
  "kernelspec": {
   "display_name": "Python 3",
   "language": "python",
   "name": "python3"
  },
  "language_info": {
   "codemirror_mode": {
    "name": "ipython",
    "version": 3
   },
   "file_extension": ".py",
   "mimetype": "text/x-python",
   "name": "python",
   "nbconvert_exporter": "python",
   "pygments_lexer": "ipython3",
   "version": "3.8.2"
  }
 },
 "nbformat": 4,
 "nbformat_minor": 4
}
