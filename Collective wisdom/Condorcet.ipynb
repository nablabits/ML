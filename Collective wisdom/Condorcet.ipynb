{
 "cells": [
  {
   "cell_type": "code",
   "execution_count": null,
   "metadata": {},
   "outputs": [],
   "source": [
    "import numpy as np\n",
    "import pandas as pd"
   ]
  },
  {
   "cell_type": "markdown",
   "metadata": {},
   "source": [
    "## Condorcet theorem\n",
    "\n",
    "If the mean probability of people voting right ($p$) is greater than .5, then sucesive elections will render right outcomes with probability greater than $p$. \n",
    "\n",
    "Sucesive elections can also be thought as having one huge election (with lots of votes) and subsampling groups.\n",
    "\n",
    "All this means that the group outperforms the individuals in the long run."
   ]
  },
  {
   "cell_type": "code",
   "execution_count": null,
   "metadata": {},
   "outputs": [],
   "source": [
    "# First define rounds of elections and votes per election\n",
    "elections, votes = 10000, 101  # odd votes to avoid draws\n",
    "s0 = pd.DataFrame(\n",
    "    np.random.binomial(1, .7, size=(elections, votes)))\n",
    "\n",
    "# Now count all the times right option wins (1)\n",
    "outcomes = (\n",
    "    (s0 == 1).sum(axis=1) > (s0 == 0).sum(axis=1))\n",
    "\n",
    "print(\n",
    "    'Sucesive elections will render right options',\n",
    "    'with probability {}'.format(outcomes.mean()))\n",
    "print(\n",
    "    'the mean of the sample is {}'.format(\n",
    "        s0.mean().mean().round(2)))"
   ]
  },
  {
   "cell_type": "code",
   "execution_count": null,
   "metadata": {},
   "outputs": [],
   "source": []
  }
 ],
 "metadata": {
  "kernelspec": {
   "display_name": "Python 3",
   "language": "python",
   "name": "python3"
  },
  "language_info": {
   "codemirror_mode": {
    "name": "ipython",
    "version": 3
   },
   "file_extension": ".py",
   "mimetype": "text/x-python",
   "name": "python",
   "nbconvert_exporter": "python",
   "pygments_lexer": "ipython3",
   "version": "3.8.2"
  }
 },
 "nbformat": 4,
 "nbformat_minor": 4
}
