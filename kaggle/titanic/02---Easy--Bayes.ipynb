{
 "cells": [
  {
   "cell_type": "code",
   "execution_count": null,
   "metadata": {},
   "outputs": [],
   "source": [
    "import numpy as np\n",
    "import pandas as pd\n",
    "import matplotlib.pyplot as plt\n",
    "import seaborn as sns\n",
    "%matplotlib inline\n",
    "\n",
    "from sklearn.ensemble import RandomForestClassifier\n",
    "from sklearn.model_selection import train_test_split"
   ]
  },
  {
   "cell_type": "code",
   "execution_count": null,
   "metadata": {},
   "outputs": [],
   "source": [
    "df = pd.read_csv('train.csv')  \n",
    "testdf = pd.read_csv('test.csv')  # the data without class for submission"
   ]
  },
  {
   "cell_type": "markdown",
   "metadata": {},
   "source": [
    "# Bayesian approach\n",
    "Try to predict the survivors using simple bayes' theorem rules.\n",
    "Set people with less than 50% chances of survive as dead. After submitting, this approach gave 69% accuracy\n",
    "\n",
    "Get live chances given sex"
   ]
  },
  {
   "cell_type": "code",
   "execution_count": null,
   "metadata": {
    "jupyter": {
     "source_hidden": true
    }
   },
   "outputs": [],
   "source": [
    "# Sex chances given live status\n",
    "d1 = df[['Sex', 'Survived']]\n",
    "f = d1.Survived == 0\n",
    "d2, d3 = d1[f], d1[~f]  # Dead/alive\n",
    "d2 = d2.groupby('Sex').count()\n",
    "d3 = d3.groupby('Sex').count()\n",
    "\n",
    "# Merge on sex\n",
    "d1 = pd.merge(d2, d3, left_index=True, right_index=True)\n",
    "\n",
    "# Dead/alive percents\n",
    "da = d1.sum(axis=0) / d1.sum().sum()\n",
    "\n",
    "# Compute female & male alive, female & male dead\n",
    "f, m = d1.values.sum(axis=1)  # totals by sex\n",
    "fd, fa, md, ma = d1.values.ravel()\n",
    "\n",
    "# get live chances given sex\n",
    "data = {\n",
    "    'Female': [fa/f, fd/f],\n",
    "    'Male': [ma/m, md/m],}\n",
    "L_S = pd.DataFrame(data=data, index=['Alive', 'Dead'])\n",
    "L_S"
   ]
  },
  {
   "cell_type": "markdown",
   "metadata": {},
   "source": [
    "Knowing the live chances given sex, calculate the live chances given the Pclass"
   ]
  },
  {
   "cell_type": "code",
   "execution_count": null,
   "metadata": {},
   "outputs": [],
   "source": [
    "# Filter women\n",
    "f = df.Sex == 'female'\n",
    "d0 = df[f][['Survived', 'Pclass']]\n",
    "\n",
    "# Filter alive status\n",
    "f = d0.Survived == 0\n",
    "d1, d2 = d0[f], d0[~f]  # dead/alive\n",
    "\n",
    "d1, d2 = [data.groupby('Pclass').count() for data in (d1, d2)]\n",
    "\n",
    "d0 = pd.merge(d1, d2, left_index=True, right_index=True, suffixes=('_0', '_1'))\n",
    "d0 = d0/d0.sum()\n",
    "\n",
    "A1 = d0.iat[0, 1] / d0.iloc[0, :].sum()\n",
    "A2 = d0.iat[1, 1] / d0.iloc[1, :].sum()\n",
    "A3 = d0.iat[2, 1] / d0.iloc[2, :].sum()\n",
    "\n",
    "pf0 = [A1, A2, A3]  # Surviving chances by class being female\n",
    "\n",
    "# Filter men\n",
    "f = df.Sex == 'male'\n",
    "d0 = df[f][['Survived', 'Pclass']]\n",
    "\n",
    "# Filter alive status\n",
    "f = d0.Survived == 0\n",
    "d1, d2 = d0[f], d0[~f]  # dead/alive\n",
    "\n",
    "d1, d2 = [data.groupby('Pclass').count() for data in (d1, d2)]\n",
    "\n",
    "d0 = pd.merge(d1, d2, left_index=True, right_index=True, suffixes=('_0', '_1'))\n",
    "d0 = d0/d0.sum()\n",
    "\n",
    "A1 = d0.iat[0, 1] / d0.iloc[0, :].sum()\n",
    "A2 = d0.iat[1, 1] / d0.iloc[1, :].sum()\n",
    "A3 = d0.iat[2, 1] / d0.iloc[2, :].sum()\n",
    "\n",
    "pm0 = [A1, A2, A3]  # Surviving chances by class being male\n",
    "\n",
    "\n",
    "pd.DataFrame({'female': pf0, 'male': pm0})"
   ]
  },
  {
   "cell_type": "code",
   "execution_count": null,
   "metadata": {},
   "outputs": [],
   "source": [
    "# Now set, f3, m3, m2 as dead and m1 f2 f1 as survived\n",
    "d0 = testdf.copy()\n",
    "\n",
    "d0['Survived'] = 0\n",
    "\n",
    "# revive m1, f2 & f1\n",
    "f = (\n",
    "    ((d0.Sex == 'male') & (d0.Pclass == 1)) |\n",
    "    ((d0.Sex == 'female') & (d0.Pclass.isin((1, 2)))))\n",
    "d0.loc[d0[f].index, 'Survived'] = 1\n",
    "\n",
    "# Create the submission\n",
    "# pd.DataFrame({'PassengerId': testdf.PassengerId, 'Survived':predictions}).to_csv('my_submission.csv', index=False)\n",
    "# d0[['PassengerId', 'Survived']].to_csv('bayes.csv', index=False)"
   ]
  }
 ],
 "metadata": {
  "kernelspec": {
   "display_name": "Python 3",
   "language": "python",
   "name": "python3"
  },
  "language_info": {
   "codemirror_mode": {
    "name": "ipython",
    "version": 3
   },
   "file_extension": ".py",
   "mimetype": "text/x-python",
   "name": "python",
   "nbconvert_exporter": "python",
   "pygments_lexer": "ipython3",
   "version": "3.8.2"
  }
 },
 "nbformat": 4,
 "nbformat_minor": 4
}
