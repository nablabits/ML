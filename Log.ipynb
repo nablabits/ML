{
 "cells": [
  {
   "cell_type": "markdown",
   "metadata": {},
   "source": [
    "# 2020-7-21"
   ]
  },
  {
   "cell_type": "markdown",
   "metadata": {},
   "source": [
    "**Project: Kaggle-titanic**  \n",
    "Today I've finally trained the classifier after estimating the unknown ages using a bayesian approach.\n",
    "\n",
    "**First grid search (couldn't compute the accuracy)**   \n",
    "`RandomForestClassifier(criterion='entropy', max_depth=10, n_estimators=9)`\n",
    "\n",
    "**Second grid search:**  \n",
    "`RandomForestClassifier(\n",
    "    max_depth=10, max_features='sqrt', min_samples_leaf=5, n_estimators=9)`  \n",
    "Mean accuracy: 0.829450686641698\n",
    "\n",
    "**Third grid search:**  \n",
    "`RandomForestClassifier(\n",
    "    criterion='entropy', max_depth=10, max_features='log2',\n",
    "    min_samples_split=5, n_estimators=9)` \n",
    "Mean accuracy (10 fold): 0.8305617977528088\n",
    "\n",
    "After these trainings, the submission scored .76076\n",
    "\n",
    "**Fourth grid search:**\n",
    "On this time I've reduced the `max_depth` because of an overfitting intuition, options to `[2, 3, 5]`:  \n",
    "`RandomForestClassifier(\n",
    "    criterion='entropy', max_depth=5, max_features='log2',\n",
    "    min_samples_leaf=8, min_samples_split=5, n_estimators=4)`  \n",
    "\n",
    "This upload scored the best outcome to date .77751\n",
    "\n",
    "**Fith grid search.**\n",
    "The overfittig intuition gains weight. Also, it seems that when running fresh the notebook (on this attempt I restarted the kernel) the hyperparameters are less.    \n",
    "`RandomForestClassifier(max_depth=5, max_features='log2', n_estimators=6)`  \n",
    "\n",
    "Mean accuracy was set to 0.8193133583021224\n",
    "\n",
    "It scored better than previous: .77990\n",
    "\n",
    "\n",
    "Estimating the unknown ages seems promising, and so it seems reducing the hyperparameters. For subsequent attemtps I can try:\n",
    "* Reduce the hyperparameters. Could be interesting to learn more about them \n",
    "* Figure out why on first run hyperparameters seem to be less.\n",
    "* Another classifier."
   ]
  },
  {
   "cell_type": "code",
   "execution_count": null,
   "metadata": {},
   "outputs": [],
   "source": []
  }
 ],
 "metadata": {
  "kernelspec": {
   "display_name": "Python 3",
   "language": "python",
   "name": "python3"
  },
  "language_info": {
   "codemirror_mode": {
    "name": "ipython",
    "version": 3
   },
   "file_extension": ".py",
   "mimetype": "text/x-python",
   "name": "python",
   "nbconvert_exporter": "python",
   "pygments_lexer": "ipython3",
   "version": "3.8.2"
  },
  "toc-autonumbering": false,
  "toc-showtags": false
 },
 "nbformat": 4,
 "nbformat_minor": 4
}
