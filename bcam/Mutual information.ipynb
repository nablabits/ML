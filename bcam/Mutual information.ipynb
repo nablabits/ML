{
 "cells": [
  {
   "cell_type": "code",
   "execution_count": null,
   "metadata": {},
   "outputs": [],
   "source": [
    "import numpy as np\n",
    "from scipy.stats import randint, entropy\n",
    "from sklearn.metrics import mutual_info_score\n",
    "import seaborn as sns"
   ]
  },
  {
   "cell_type": "code",
   "execution_count": null,
   "metadata": {},
   "outputs": [],
   "source": [
    "# Flipping a coin\n",
    "low, high = 0, 2\n",
    "d0 = randint(low, high)\n",
    "d0.entropy()\n",
    "\n",
    "# Rolling a die\n",
    "low, high = 0, 7\n",
    "d1 = randint(low, high)\n",
    "d0.entropy(), d1.entropy()"
   ]
  },
  {
   "cell_type": "code",
   "execution_count": null,
   "metadata": {},
   "outputs": [],
   "source": [
    "samples = 1000\n",
    "s0, s1 = [X.rvs(size=samples) for X in (d0, d1)]\n",
    "\n",
    "qty, _ = np.histogram(s0, bins=2)\n",
    "p0 = qty / qty.sum()\n",
    "\n",
    "qty, _ = np.histogram(s1, bins=7)\n",
    "p1 = qty / qty.sum()\n",
    "\n",
    "entropy(p0), entropy(p1)"
   ]
  },
  {
   "cell_type": "code",
   "execution_count": null,
   "metadata": {},
   "outputs": [],
   "source": [
    "xy, _, _ = np.histogram2d(x=s0, y=s1, bins=(2, 7))\n",
    "mutual_info_score(None, None, contingency=xy)  # They should be very independent"
   ]
  },
  {
   "cell_type": "code",
   "execution_count": null,
   "metadata": {},
   "outputs": [],
   "source": [
    "sns.jointplot(s0, s1)"
   ]
  },
  {
   "cell_type": "code",
   "execution_count": null,
   "metadata": {},
   "outputs": [],
   "source": []
  }
 ],
 "metadata": {
  "kernelspec": {
   "display_name": "Python 3",
   "language": "python",
   "name": "python3"
  },
  "language_info": {
   "codemirror_mode": {
    "name": "ipython",
    "version": 3
   },
   "file_extension": ".py",
   "mimetype": "text/x-python",
   "name": "python",
   "nbconvert_exporter": "python",
   "pygments_lexer": "ipython3",
   "version": "3.6.9"
  }
 },
 "nbformat": 4,
 "nbformat_minor": 4
}
