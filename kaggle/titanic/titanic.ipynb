{
 "cells": [
  {
   "cell_type": "markdown",
   "metadata": {},
   "source": [
    "**Index**\n",
    "* [Tutorial by Alexis Cook](#Tutorial-by-Alexis-Cook)\n",
    "* [Data exploration](#Data-Exploration)\n",
    "* [Bayesian approach](#Bayesian-approach)"
   ]
  },
  {
   "cell_type": "code",
   "execution_count": null,
   "metadata": {},
   "outputs": [],
   "source": [
    "import numpy as np\n",
    "import pandas as pd\n",
    "import seaborn as sns\n",
    "import matplotlib.pyplot as plt\n",
    "\n",
    "from sklearn.ensemble import RandomForestClassifier\n",
    "from sklearn.model_selection import train_test_split"
   ]
  },
  {
   "cell_type": "code",
   "execution_count": null,
   "metadata": {},
   "outputs": [],
   "source": [
    "df = pd.read_csv('train.csv')  \n",
    "testdf = pd.read_csv('test.csv')  # the data without class for submission"
   ]
  },
  {
   "cell_type": "markdown",
   "metadata": {},
   "source": [
    "## Tutorial by Alexis Cook\n",
    "(https://www.kaggle.com/alexisbcook/titanic-tutorial)\n",
    "\n",
    "Just a RandomForest classifier over Passenger class, sex, siblings and parents\n",
    "\n",
    "After submission it scored 76% (I've killed/revived the other 24%)"
   ]
  },
  {
   "cell_type": "code",
   "execution_count": null,
   "metadata": {},
   "outputs": [],
   "source": [
    "y = df.Survived\n",
    "features = ['Pclass', 'Sex', 'SibSp', 'Parch']\n",
    "\n",
    "# Convert categories into numbers\n",
    "X = pd.get_dummies(df[features])\n",
    "X_test = pd.get_dummies(testdf[features])\n",
    "\n",
    "# Instantiate the classifier, train and predict\n",
    "model = RandomForestClassifier()\n",
    "model.fit(X, y)\n",
    "predictions = model.predict(X_test)\n",
    "\n",
    "pd.DataFrame({'PassengerId': testdf.PassengerId, 'Survived':predictions}).to_csv('my_submission.csv', index=False)"
   ]
  },
  {
   "cell_type": "markdown",
   "metadata": {},
   "source": [
    "# Data Exploration\n",
    "\n",
    "Show a visualization about rough numbers"
   ]
  },
  {
   "cell_type": "code",
   "execution_count": null,
   "metadata": {},
   "outputs": [],
   "source": [
    "sns.set(style='ticks')\n",
    "\n",
    "d0 = df.copy()\n",
    "\n",
    "f, axes = plt.subplots(2, 3, figsize=(15, 10))\n",
    "\n",
    "f = d0[d0.Age.isna()]\n",
    "d0.loc[f.index, 'Age'] = -1\n",
    "\n",
    "sns.countplot(d0.Survived, ax=axes[0, 0])\n",
    "sns.countplot(d0.Sex, ax=axes[0, 1])\n",
    "sns.distplot(d0.Age, kde=False, ax=axes[0,2])\n",
    "sns.countplot(d0.Pclass, ax=axes[1, 0])\n",
    "sns.countplot(d0.SibSp, ax=axes[1, 1])\n",
    "sns.countplot(d0.Parch, ax=axes[1, 2])\n",
    "\n",
    "plt.show()"
   ]
  },
  {
   "cell_type": "markdown",
   "metadata": {},
   "source": [
    "## Bayesian approach\n",
    "\n",
    "Set people with less than 50% chances of survive as dead. After submitting, this approach gave 69% accuracy\n",
    "\n",
    "Get live chances given sex"
   ]
  },
  {
   "cell_type": "code",
   "execution_count": null,
   "metadata": {},
   "outputs": [],
   "source": [
    "# Sex chances given live status\n",
    "d1 = df[['Sex', 'Survived']]\n",
    "f = d1.Survived == 0\n",
    "d2, d3 = d1[f], d1[~f]  # Dead/alive\n",
    "d2 = d2.groupby('Sex').count()\n",
    "d3 = d3.groupby('Sex').count()\n",
    "\n",
    "# Merge on sex\n",
    "d1 = pd.merge(d2, d3, left_index=True, right_index=True)\n",
    "\n",
    "# Dead/alive percents\n",
    "da = d1.sum(axis=0) / d1.sum().sum()\n",
    "\n",
    "# Compute female & male alive, female & male dead\n",
    "f, m = d1.values.sum(axis=1)  # totals by sex\n",
    "fd, fa, md, ma = d1.values.ravel()\n",
    "\n",
    "# get live chances given sex\n",
    "data = {\n",
    "    'Female': [fa/f, fd/f],\n",
    "    'Male': [ma/m, md/m],}\n",
    "L_S = pd.DataFrame(data=data, index=['Alive', 'Dead'])\n",
    "L_S"
   ]
  },
  {
   "cell_type": "markdown",
   "metadata": {},
   "source": [
    "Knowing the live chances given sex, calculate the live chances given the Pclass"
   ]
  },
  {
   "cell_type": "code",
   "execution_count": null,
   "metadata": {},
   "outputs": [],
   "source": [
    "# Filter women\n",
    "f = df.Sex == 'female'\n",
    "d0 = df[f][['Survived', 'Pclass']]\n",
    "\n",
    "# Filter alive status\n",
    "f = d0.Survived == 0\n",
    "d1, d2 = d0[f], d0[~f]  # dead/alive\n",
    "\n",
    "d1, d2 = [data.groupby('Pclass').count() for data in (d1, d2)]\n",
    "\n",
    "d0 = pd.merge(d1, d2, left_index=True, right_index=True, suffixes=('_0', '_1'))\n",
    "d0 = d0/d0.sum()\n",
    "\n",
    "A1 = d0.iat[0, 1] / d0.iloc[0, :].sum()\n",
    "A2 = d0.iat[1, 1] / d0.iloc[1, :].sum()\n",
    "A3 = d0.iat[2, 1] / d0.iloc[2, :].sum()\n",
    "\n",
    "pf0 = [A1, A2, A3]  # Surviving chances by class being female\n",
    "\n",
    "# Filter men\n",
    "f = df.Sex == 'male'\n",
    "d0 = df[f][['Survived', 'Pclass']]\n",
    "\n",
    "# Filter alive status\n",
    "f = d0.Survived == 0\n",
    "d1, d2 = d0[f], d0[~f]  # dead/alive\n",
    "\n",
    "d1, d2 = [data.groupby('Pclass').count() for data in (d1, d2)]\n",
    "\n",
    "d0 = pd.merge(d1, d2, left_index=True, right_index=True, suffixes=('_0', '_1'))\n",
    "d0 = d0/d0.sum()\n",
    "\n",
    "A1 = d0.iat[0, 1] / d0.iloc[0, :].sum()\n",
    "A2 = d0.iat[1, 1] / d0.iloc[1, :].sum()\n",
    "A3 = d0.iat[2, 1] / d0.iloc[2, :].sum()\n",
    "\n",
    "pm0 = [A1, A2, A3]  # Surviving chances by class being male\n",
    "\n",
    "\n",
    "pd.DataFrame({'female': pf0, 'male': pm0})"
   ]
  },
  {
   "cell_type": "code",
   "execution_count": null,
   "metadata": {},
   "outputs": [],
   "source": [
    "# Now set, f3, m3, m2 as dead and m1 f2 f1 as survived\n",
    "d0 = testdf.copy()\n",
    "\n",
    "d0['Survived'] = 0\n",
    "\n",
    "# revive m1, f2 & f1\n",
    "f = (\n",
    "    ((d0.Sex == 'male') & (d0.Pclass == 1)) |\n",
    "    ((d0.Sex == 'female') & (d0.Pclass.isin((1, 2)))))\n",
    "d0.loc[d0[f].index, 'Survived'] = 1\n",
    "\n",
    "pd.DataFrame({'PassengerId': testdf.PassengerId, 'Survived':predictions}).to_csv('my_submission.csv', index=False)\n",
    "d0[['PassengerId', 'Survived']].to_csv('bayes.csv', index=False)"
   ]
  },
  {
   "cell_type": "code",
   "execution_count": null,
   "metadata": {},
   "outputs": [],
   "source": []
  }
 ],
 "metadata": {
  "kernelspec": {
   "display_name": "Python 3",
   "language": "python",
   "name": "python3"
  },
  "language_info": {
   "codemirror_mode": {
    "name": "ipython",
    "version": 3
   },
   "file_extension": ".py",
   "mimetype": "text/x-python",
   "name": "python",
   "nbconvert_exporter": "python",
   "pygments_lexer": "ipython3",
   "version": "3.6.9"
  }
 },
 "nbformat": 4,
 "nbformat_minor": 4
}
